{
 "cells": [
  {
   "cell_type": "code",
   "execution_count": null,
   "id": "cc0f9df6-7da5-4edc-a18c-0e1ff8a2e3ea",
   "metadata": {
    "tags": []
   },
   "outputs": [],
   "source": [
    "from typing import List, Optional\n",
    "import sky\n",
    "import os\n"
   ]
  },
  {
   "cell_type": "code",
   "execution_count": null,
   "id": "ce757af5-8adb-465f-bf4c-453166e584fe",
   "metadata": {
    "tags": []
   },
   "outputs": [],
   "source": [
    "# Total Nodes, INCLUDING Head Node\n",
    "num_nodes = 2"
   ]
  },
  {
   "cell_type": "code",
   "execution_count": null,
   "id": "80fbcc71-f1a9-4211-ad2a-f4598da1fcc2",
   "metadata": {
    "tags": []
   },
   "outputs": [],
   "source": [
    "workdir =  os.getcwd()\n",
    "print(workdir)"
   ]
  },
  {
   "cell_type": "code",
   "execution_count": null,
   "id": "e6563132-87f2-4a74-9b54-d46ee2eb0343",
   "metadata": {
    "tags": []
   },
   "outputs": [],
   "source": [
    "# The setup command.  Will be run under the working directory.\n",
    "setup = '''\n",
    "  pip install \"ray[train]\"\n",
    "  pip install tqdm\n",
    "  pip install torch torchvision torchaudio --index-url https://download.pytorch.org/whl/cu118\n",
    "  sudo mkdir ./checkpoint\n",
    "  '''\n"
   ]
  },
  {
   "cell_type": "code",
   "execution_count": null,
   "id": "193b8f64-da20-4b1f-8dc3-9223ded65d14",
   "metadata": {
    "tags": []
   },
   "outputs": [],
   "source": [
    "# The command to run.  Will be run under the working directory.\n",
    "def run_fn(node_rank: int, ip_list: List[str]) -> Optional[str]:\n",
    "    num_nodes = len(ip_list)\n",
    "    return f\"\"\"\\\n",
    "    if [ \"{node_rank}\" == \"0\" ]; then\n",
    "      ps aux | grep ray | grep 6379 &> /dev/null || ray start --head  --disable-usage-stats --port 6379\n",
    "      sleep 5\n",
    "      python train.py --num-workers {num_nodes}\n",
    "    else\n",
    "      sleep 5\n",
    "      ps aux | grep ray | grep 6379 &> /dev/null || ray start --address {ip_list[0]}:6379 --disable-usage-stats\n",
    "    fi\n",
    "    \"\"\""
   ]
  },
  {
   "cell_type": "code",
   "execution_count": null,
   "id": "b5a53942-57d8-43dd-825b-e256afdc73e9",
   "metadata": {
    "tags": []
   },
   "outputs": [],
   "source": [
    "train = sky.Task(\n",
    "    'train',\n",
    "    setup=setup,\n",
    "    workdir=workdir,\n",
    "    num_nodes=num_nodes,\n",
    "    run=run_fn,\n",
    ")"
   ]
  },
  {
   "cell_type": "code",
   "execution_count": null,
   "id": "45f6aa42-a940-46fb-aaf6-dacfa8357d95",
   "metadata": {
    "tags": []
   },
   "outputs": [],
   "source": [
    "train.set_resources({\n",
    "    ##### Fully specified\n",
    "    sky.Resources(sky.Kubernetes(), accelerators={'T4': 1})\n",
    "})"
   ]
  },
  {
   "cell_type": "code",
   "execution_count": null,
   "id": "98c73748-7f35-4b3d-b010-ffdf0ba90679",
   "metadata": {
    "tags": []
   },
   "outputs": [],
   "source": [
    "sky.launch(train, cluster_name='ray-train')"
   ]
  },
  {
   "cell_type": "code",
   "execution_count": null,
   "id": "4b4fc0f8-c98a-4aa1-b33f-b1fc376c858e",
   "metadata": {},
   "outputs": [],
   "source": []
  }
 ],
 "metadata": {
  "environment": {
   "kernel": "python3",
   "name": ".m121",
   "type": "gcloud",
   "uri": "us-docker.pkg.dev/deeplearning-platform-release/gcr.io/:m121"
  },
  "kernelspec": {
   "display_name": "Python 3 (ipykernel) (Local)",
   "language": "python",
   "name": "python3"
  },
  "language_info": {
   "codemirror_mode": {
    "name": "ipython",
    "version": 3
   },
   "file_extension": ".py",
   "mimetype": "text/x-python",
   "name": "python",
   "nbconvert_exporter": "python",
   "pygments_lexer": "ipython3",
   "version": "3.10.14"
  }
 },
 "nbformat": 4,
 "nbformat_minor": 5
}
