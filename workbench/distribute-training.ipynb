{
 "cells": [
  {
   "cell_type": "code",
   "execution_count": null,
   "id": "cc0f9df6-7da5-4edc-a18c-0e1ff8a2e3ea",
   "metadata": {
    "tags": []
   },
   "outputs": [],
   "source": [
    "from typing import List, Optional\n",
    "\n",
    "import sky\n"
   ]
  },
  {
   "cell_type": "code",
   "execution_count": null,
   "id": "ce757af5-8adb-465f-bf4c-453166e584fe",
   "metadata": {
    "tags": []
   },
   "outputs": [],
   "source": [
    "# Total Nodes, INCLUDING Head Node\n",
    "num_nodes = 3"
   ]
  },
  {
   "cell_type": "code",
   "execution_count": null,
   "id": "e6563132-87f2-4a74-9b54-d46ee2eb0343",
   "metadata": {
    "tags": []
   },
   "outputs": [],
   "source": [
    "# The setup command.  Will be run under the working directory.\n",
    "setup = 'echo \\\"alias python=python3\\\" >> ~/.bashrc && pip3 install --upgrade pip && \\\n",
    "    [ -d pytorch-distributed-resnet ] || \\\n",
    "    (git clone https://github.com/michaelzhiluo/pytorch-distributed-resnet && \\\n",
    "    cd pytorch-distributed-resnet && pip3 install -r requirements.txt torch==1.12.1+cu113 --extra-index-url https://download.pytorch.org/whl/cu113 && \\\n",
    "    mkdir -p data  && mkdir -p saved_models && cd data && \\\n",
    "    wget -c --quiet https://www.cs.toronto.edu/~kriz/cifar-10-python.tar.gz && \\\n",
    "    tar -xvzf cifar-10-python.tar.gz)'\n"
   ]
  },
  {
   "cell_type": "code",
   "execution_count": null,
   "id": "193b8f64-da20-4b1f-8dc3-9223ded65d14",
   "metadata": {
    "tags": []
   },
   "outputs": [],
   "source": [
    "# The command to run.  Will be run under the working directory.\n",
    "def run_fn(node_rank: int, ip_list: List[str]) -> Optional[str]:\n",
    "    num_nodes = len(ip_list)\n",
    "    return f\"\"\"\\\n",
    "    cd pytorch-distributed-resnet\n",
    "    python3 -m torch.distributed.launch --nproc_per_node=1 \\\n",
    "    --nnodes={num_nodes} --node_rank={node_rank} --master_addr={ip_list[0]} \\\n",
    "    --master_port=8008 resnet_ddp.py --num_epochs 20\n",
    "    \"\"\""
   ]
  },
  {
   "cell_type": "code",
   "execution_count": null,
   "id": "b5a53942-57d8-43dd-825b-e256afdc73e9",
   "metadata": {
    "tags": []
   },
   "outputs": [],
   "source": [
    "train = sky.Task(\n",
    "    'train',\n",
    "    setup=setup,\n",
    "    num_nodes=num_nodes,\n",
    "    run=run_fn,\n",
    ")"
   ]
  },
  {
   "cell_type": "code",
   "execution_count": null,
   "id": "45f6aa42-a940-46fb-aaf6-dacfa8357d95",
   "metadata": {
    "tags": []
   },
   "outputs": [],
   "source": [
    "train.set_resources({\n",
    "    ##### Fully specified\n",
    "    sky.Resources(sky.Kubernetes(), accelerators={'T4': 1})\n",
    "})"
   ]
  },
  {
   "cell_type": "code",
   "execution_count": null,
   "id": "98c73748-7f35-4b3d-b010-ffdf0ba90679",
   "metadata": {
    "tags": []
   },
   "outputs": [],
   "source": [
    "sky.launch(train, cluster_name='distrian')"
   ]
  },
  {
   "cell_type": "code",
   "execution_count": null,
   "id": "4b4fc0f8-c98a-4aa1-b33f-b1fc376c858e",
   "metadata": {},
   "outputs": [],
   "source": []
  }
 ],
 "metadata": {
  "environment": {
   "kernel": "conda-base-py",
   "name": "workbench-notebooks.m121",
   "type": "gcloud",
   "uri": "us-docker.pkg.dev/deeplearning-platform-release/gcr.io/workbench-notebooks:m121"
  },
  "kernelspec": {
   "display_name": "Python 3 (ipykernel) (Local)",
   "language": "python",
   "name": "conda-base-py"
  },
  "language_info": {
   "codemirror_mode": {
    "name": "ipython",
    "version": 3
   },
   "file_extension": ".py",
   "mimetype": "text/x-python",
   "name": "python",
   "nbconvert_exporter": "python",
   "pygments_lexer": "ipython3",
   "version": "3.10.14"
  }
 },
 "nbformat": 4,
 "nbformat_minor": 5
}
